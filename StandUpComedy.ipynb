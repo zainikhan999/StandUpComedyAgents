{
  "nbformat": 4,
  "nbformat_minor": 0,
  "metadata": {
    "colab": {
      "provenance": [],
      "gpuType": "T4",
      "authorship_tag": "ABX9TyNnOLZcO648Mr1cX9o18Jah",
      "include_colab_link": true
    },
    "kernelspec": {
      "name": "python3",
      "display_name": "Python 3"
    },
    "language_info": {
      "name": "python"
    },
    "accelerator": "GPU"
  },
  "cells": [
    {
      "cell_type": "markdown",
      "metadata": {
        "id": "view-in-github",
        "colab_type": "text"
      },
      "source": [
        "<a href=\"https://colab.research.google.com/github/zainikhan999/StandUpComedyAgents/blob/main/StandUpComedy.ipynb\" target=\"_parent\"><img src=\"https://colab.research.google.com/assets/colab-badge.svg\" alt=\"Open In Colab\"/></a>"
      ]
    },
    {
      "cell_type": "code",
      "source": [
        "!pip install autogen"
      ],
      "metadata": {
        "colab": {
          "base_uri": "https://localhost:8080/"
        },
        "id": "vlQ5AThl5FDb",
        "outputId": "448d2b9b-521d-4bb4-f3fa-f0ae3dbdcd12"
      },
      "execution_count": 4,
      "outputs": [
        {
          "output_type": "stream",
          "name": "stdout",
          "text": [
            "Collecting autogen\n",
            "  Downloading autogen-0.7.3-py3-none-any.whl.metadata (22 kB)\n",
            "Collecting pyautogen==0.7.3 (from autogen)\n",
            "  Downloading pyautogen-0.7.3-py3-none-any.whl.metadata (31 kB)\n",
            "Collecting asyncer==0.0.8 (from pyautogen==0.7.3->autogen)\n",
            "  Downloading asyncer-0.0.8-py3-none-any.whl.metadata (6.7 kB)\n",
            "Collecting diskcache (from pyautogen==0.7.3->autogen)\n",
            "  Downloading diskcache-5.6.3-py3-none-any.whl.metadata (20 kB)\n",
            "Collecting docker (from pyautogen==0.7.3->autogen)\n",
            "  Downloading docker-7.1.0-py3-none-any.whl.metadata (3.8 kB)\n",
            "Collecting fast-depends<3,>=2.4.12 (from pyautogen==0.7.3->autogen)\n",
            "  Downloading fast_depends-2.4.12-py3-none-any.whl.metadata (7.6 kB)\n",
            "Requirement already satisfied: numpy in /usr/local/lib/python3.11/dist-packages (from pyautogen==0.7.3->autogen) (1.26.4)\n",
            "Requirement already satisfied: openai>=1.58 in /usr/local/lib/python3.11/dist-packages (from pyautogen==0.7.3->autogen) (1.59.9)\n",
            "Requirement already satisfied: packaging in /usr/local/lib/python3.11/dist-packages (from pyautogen==0.7.3->autogen) (24.2)\n",
            "Requirement already satisfied: pydantic<3,>=2.6.1 in /usr/local/lib/python3.11/dist-packages (from pyautogen==0.7.3->autogen) (2.10.6)\n",
            "Collecting python-dotenv (from pyautogen==0.7.3->autogen)\n",
            "  Downloading python_dotenv-1.0.1-py3-none-any.whl.metadata (23 kB)\n",
            "Requirement already satisfied: termcolor in /usr/local/lib/python3.11/dist-packages (from pyautogen==0.7.3->autogen) (2.5.0)\n",
            "Collecting tiktoken (from pyautogen==0.7.3->autogen)\n",
            "  Downloading tiktoken-0.8.0-cp311-cp311-manylinux_2_17_x86_64.manylinux2014_x86_64.whl.metadata (6.6 kB)\n",
            "Requirement already satisfied: websockets<15,>=14 in /usr/local/lib/python3.11/dist-packages (from pyautogen==0.7.3->autogen) (14.2)\n",
            "Requirement already satisfied: anyio<5.0,>=3.4.0 in /usr/local/lib/python3.11/dist-packages (from asyncer==0.0.8->pyautogen==0.7.3->autogen) (3.7.1)\n",
            "Requirement already satisfied: distro<2,>=1.7.0 in /usr/local/lib/python3.11/dist-packages (from openai>=1.58->pyautogen==0.7.3->autogen) (1.9.0)\n",
            "Requirement already satisfied: httpx<1,>=0.23.0 in /usr/local/lib/python3.11/dist-packages (from openai>=1.58->pyautogen==0.7.3->autogen) (0.28.1)\n",
            "Requirement already satisfied: jiter<1,>=0.4.0 in /usr/local/lib/python3.11/dist-packages (from openai>=1.58->pyautogen==0.7.3->autogen) (0.8.2)\n",
            "Requirement already satisfied: sniffio in /usr/local/lib/python3.11/dist-packages (from openai>=1.58->pyautogen==0.7.3->autogen) (1.3.1)\n",
            "Requirement already satisfied: tqdm>4 in /usr/local/lib/python3.11/dist-packages (from openai>=1.58->pyautogen==0.7.3->autogen) (4.67.1)\n",
            "Requirement already satisfied: typing-extensions<5,>=4.11 in /usr/local/lib/python3.11/dist-packages (from openai>=1.58->pyautogen==0.7.3->autogen) (4.12.2)\n",
            "Requirement already satisfied: annotated-types>=0.6.0 in /usr/local/lib/python3.11/dist-packages (from pydantic<3,>=2.6.1->pyautogen==0.7.3->autogen) (0.7.0)\n",
            "Requirement already satisfied: pydantic-core==2.27.2 in /usr/local/lib/python3.11/dist-packages (from pydantic<3,>=2.6.1->pyautogen==0.7.3->autogen) (2.27.2)\n",
            "Requirement already satisfied: requests>=2.26.0 in /usr/local/lib/python3.11/dist-packages (from docker->pyautogen==0.7.3->autogen) (2.32.3)\n",
            "Requirement already satisfied: urllib3>=1.26.0 in /usr/local/lib/python3.11/dist-packages (from docker->pyautogen==0.7.3->autogen) (2.3.0)\n",
            "Requirement already satisfied: regex>=2022.1.18 in /usr/local/lib/python3.11/dist-packages (from tiktoken->pyautogen==0.7.3->autogen) (2024.11.6)\n",
            "Requirement already satisfied: idna>=2.8 in /usr/local/lib/python3.11/dist-packages (from anyio<5.0,>=3.4.0->asyncer==0.0.8->pyautogen==0.7.3->autogen) (3.10)\n",
            "Requirement already satisfied: certifi in /usr/local/lib/python3.11/dist-packages (from httpx<1,>=0.23.0->openai>=1.58->pyautogen==0.7.3->autogen) (2024.12.14)\n",
            "Requirement already satisfied: httpcore==1.* in /usr/local/lib/python3.11/dist-packages (from httpx<1,>=0.23.0->openai>=1.58->pyautogen==0.7.3->autogen) (1.0.7)\n",
            "Requirement already satisfied: h11<0.15,>=0.13 in /usr/local/lib/python3.11/dist-packages (from httpcore==1.*->httpx<1,>=0.23.0->openai>=1.58->pyautogen==0.7.3->autogen) (0.14.0)\n",
            "Requirement already satisfied: charset-normalizer<4,>=2 in /usr/local/lib/python3.11/dist-packages (from requests>=2.26.0->docker->pyautogen==0.7.3->autogen) (3.4.1)\n",
            "Downloading autogen-0.7.3-py3-none-any.whl (13 kB)\n",
            "Downloading pyautogen-0.7.3-py3-none-any.whl (562 kB)\n",
            "\u001b[2K   \u001b[90m━━━━━━━━━━━━━━━━━━━━━━━━━━━━━━━━━━━━━━━━\u001b[0m \u001b[32m562.5/562.5 kB\u001b[0m \u001b[31m41.6 MB/s\u001b[0m eta \u001b[36m0:00:00\u001b[0m\n",
            "\u001b[?25hDownloading asyncer-0.0.8-py3-none-any.whl (9.2 kB)\n",
            "Downloading fast_depends-2.4.12-py3-none-any.whl (17 kB)\n",
            "Downloading diskcache-5.6.3-py3-none-any.whl (45 kB)\n",
            "\u001b[2K   \u001b[90m━━━━━━━━━━━━━━━━━━━━━━━━━━━━━━━━━━━━━━━━\u001b[0m \u001b[32m45.5/45.5 kB\u001b[0m \u001b[31m5.5 MB/s\u001b[0m eta \u001b[36m0:00:00\u001b[0m\n",
            "\u001b[?25hDownloading docker-7.1.0-py3-none-any.whl (147 kB)\n",
            "\u001b[2K   \u001b[90m━━━━━━━━━━━━━━━━━━━━━━━━━━━━━━━━━━━━━━━━\u001b[0m \u001b[32m147.8/147.8 kB\u001b[0m \u001b[31m18.0 MB/s\u001b[0m eta \u001b[36m0:00:00\u001b[0m\n",
            "\u001b[?25hDownloading python_dotenv-1.0.1-py3-none-any.whl (19 kB)\n",
            "Downloading tiktoken-0.8.0-cp311-cp311-manylinux_2_17_x86_64.manylinux2014_x86_64.whl (1.2 MB)\n",
            "\u001b[2K   \u001b[90m━━━━━━━━━━━━━━━━━━━━━━━━━━━━━━━━━━━━━━━━\u001b[0m \u001b[32m1.2/1.2 MB\u001b[0m \u001b[31m75.8 MB/s\u001b[0m eta \u001b[36m0:00:00\u001b[0m\n",
            "\u001b[?25hInstalling collected packages: python-dotenv, diskcache, tiktoken, docker, asyncer, fast-depends, pyautogen, autogen\n",
            "Successfully installed asyncer-0.0.8 autogen-0.7.3 diskcache-5.6.3 docker-7.1.0 fast-depends-2.4.12 pyautogen-0.7.3 python-dotenv-1.0.1 tiktoken-0.8.0\n"
          ]
        }
      ]
    },
    {
      "cell_type": "code",
      "execution_count": 6,
      "metadata": {
        "colab": {
          "base_uri": "https://localhost:8080/"
        },
        "id": "yrkVPDMk4yfG",
        "outputId": "8598e2fa-77c9-4e26-a081-ecf07056039c"
      },
      "outputs": [
        {
          "output_type": "stream",
          "name": "stdout",
          "text": [
            "[autogen.oai.client: 02-01 19:10:31] {573} WARNING - Model deepseek/deepseek-r1 is not found. The cost will be 0. In your config_list, add field {\"price\" : [prompt_price_per_1k, completion_token_price_per_1k]} for customized pricing.\n"
          ]
        },
        {
          "output_type": "stream",
          "name": "stderr",
          "text": [
            "WARNING:autogen.oai.client:Model deepseek/deepseek-r1 is not found. The cost will be 0. In your config_list, add field {\"price\" : [prompt_price_per_1k, completion_token_price_per_1k]} for customized pricing.\n"
          ]
        },
        {
          "output_type": "stream",
          "name": "stdout",
          "text": [
            "Autogen Reply: Why did the scarecrow win an award?  \n",
            "Because they were *outstanding* in their field! 🌾😄  \n",
            "\n",
            "Need another? Let me know!\n"
          ]
        }
      ],
      "source": [
        "from autogen import ConversableAgent\n",
        "from openai import OpenAI\n",
        "\n",
        "# OpenRouter Client Setup\n",
        "client = OpenAI(\n",
        "    base_url=\"https://openrouter.ai/api/v1\",\n",
        "    api_key=deep_seek,  # Replace with your actual API key\n",
        ")\n",
        "\n",
        "# Define LLM Configuration for Autogen to Use OpenRouter\n",
        "llm_config = {\n",
        "    \"config_list\": [\n",
        "        {\n",
        "            \"model\": \"deepseek/deepseek-r1\",\n",
        "            \"api_key\": deep_seek,  # Replace with your actual API key\n",
        "            \"base_url\": \"https://openrouter.ai/api/v1\",\n",
        "        }\n",
        "    ],\n",
        "    \"temperature\": 0.7,  # Adjust temperature if needed\n",
        "}\n",
        "\n",
        "# Initialize Autogen ConversableAgent\n",
        "agent = ConversableAgent(\n",
        "    name=\"chatbot\",\n",
        "    llm_config=llm_config,\n",
        "    human_input_mode=\"NEVER\",\n",
        ")\n",
        "\n",
        "# Generate Reply using ConversableAgent\n",
        "reply = agent.generate_reply(messages=[{\"content\": \"Tell me a joke.\", \"role\": \"user\"}])\n",
        "print(\"Autogen Reply:\", reply)\n",
        "\n",
        "# # Generate Reply using OpenRouter API directly\n",
        "# completion = client.chat.completions.create(\n",
        "#     model=\"deepseek/deepseek-r1\",\n",
        "#     messages=[{\"role\": \"user\", \"content\": \"Are you using data?\"}],\n",
        "# )\n",
        "\n",
        "# print(\"OpenRouter Reply:\", completion.choices[0].message.content)\n"
      ]
    },
    {
      "cell_type": "code",
      "source": [
        "reply = agent.generate_reply(\n",
        "    messages=[{\"content\": \"Repeat the joke.\", \"role\": \"user\"}]\n",
        ")\n",
        "print(reply)"
      ],
      "metadata": {
        "colab": {
          "base_uri": "https://localhost:8080/"
        },
        "id": "PiacuQCg5id0",
        "outputId": "dbfb917f-7ccc-4bf4-8bf9-0e6353aed51b"
      },
      "execution_count": 7,
      "outputs": [
        {
          "output_type": "stream",
          "name": "stdout",
          "text": [
            "[autogen.oai.client: 02-01 19:11:02] {573} WARNING - Model deepseek/deepseek-r1 is not found. The cost will be 0. In your config_list, add field {\"price\" : [prompt_price_per_1k, completion_token_price_per_1k]} for customized pricing.\n"
          ]
        },
        {
          "output_type": "stream",
          "name": "stderr",
          "text": [
            "WARNING:autogen.oai.client:Model deepseek/deepseek-r1 is not found. The cost will be 0. In your config_list, add field {\"price\" : [prompt_price_per_1k, completion_token_price_per_1k]} for customized pricing.\n"
          ]
        },
        {
          "output_type": "stream",
          "name": "stdout",
          "text": [
            "Of course! Here's the joke again:  \n",
            "\n",
            "Why did the scarecrow win an award?  \n",
            "Because he was *outstanding* in his field! 🌾  \n",
            "\n",
            "(Let me know if you need a *re-peat*... get it? 🥁)\n"
          ]
        }
      ]
    },
    {
      "cell_type": "markdown",
      "source": [
        "#Standup Comedian"
      ],
      "metadata": {
        "id": "6aojQW8N673Y"
      }
    },
    {
      "cell_type": "code",
      "source": [
        "cathy = ConversableAgent(\n",
        "    name=\"cathy\",\n",
        "    system_message=\n",
        "    \"Your name is Cathy and you are a stand-up comedian.\",\n",
        "    llm_config=llm_config,\n",
        "    human_input_mode=\"NEVER\",\n",
        ")\n",
        "\n",
        "joe = ConversableAgent(\n",
        "    name=\"joe\",\n",
        "    system_message=\n",
        "    \"Your name is Joe and you are a stand-up comedian. \"\n",
        "    \"Start the next joke from the punchline of the previous joke.\",\n",
        "    llm_config=llm_config,\n",
        "    human_input_mode=\"NEVER\",\n",
        ")"
      ],
      "metadata": {
        "id": "dWVlM40D6QVC"
      },
      "execution_count": 8,
      "outputs": []
    },
    {
      "cell_type": "code",
      "source": [
        "chat_result = joe.initiate_chat(\n",
        "    recipient=cathy,\n",
        "    message=\"I'm Joe. Cathy, let's keep the jokes rolling.\",\n",
        "    max_turns=2,\n",
        ")"
      ],
      "metadata": {
        "colab": {
          "base_uri": "https://localhost:8080/"
        },
        "id": "_BW18EVo7PsB",
        "outputId": "adf4ce7d-8c13-4e21-e6d1-92e3dd22e2e4"
      },
      "execution_count": 9,
      "outputs": [
        {
          "output_type": "stream",
          "name": "stdout",
          "text": [
            "joe (to cathy):\n",
            "\n",
            "I'm Joe. Cathy, let's keep the jokes rolling.\n",
            "\n",
            "--------------------------------------------------------------------------------\n",
            "[autogen.oai.client: 02-01 19:13:13] {573} WARNING - Model deepseek/deepseek-r1 is not found. The cost will be 0. In your config_list, add field {\"price\" : [prompt_price_per_1k, completion_token_price_per_1k]} for customized pricing.\n"
          ]
        },
        {
          "output_type": "stream",
          "name": "stderr",
          "text": [
            "WARNING:autogen.oai.client:Model deepseek/deepseek-r1 is not found. The cost will be 0. In your config_list, add field {\"price\" : [prompt_price_per_1k, completion_token_price_per_1k]} for customized pricing.\n"
          ]
        },
        {
          "output_type": "stream",
          "name": "stdout",
          "text": [
            "cathy (to joe):\n",
            "\n",
            "**Cathy:** \"Joe, you say? Well, hold onto your *average* expectations—I’ve got jokes hotter than a barista’s espresso machine:  \n",
            "\n",
            "1. Did you hear about Joe who spilled his coffee? He tried to clean it up but just made a *latte* mess. Turns out, he’s terrible at handling a *cup of Joe*. ☕  \n",
            "\n",
            "2. Why did Joe bring a ladder to the gym? He heard the workout would *lift his spirits*... but then he realized dumbbells don’t climb themselves.  \n",
            "\n",
            "3. Joe tried online dating. His profile said, *“Looking for someone to categorize me as ‘Netflix and Chill’ instead of ‘Average Joes.’”* Spoiler: He’s still binge-watching alone.  \n",
            "\n",
            "4. Hey Joe, why can’t you trust stairs? They’re *always up to something*... just like your ex’s Instagram stories.  \n",
            "\n",
            "5. And finally, Joe walked into a bar. The bartender said, “Hi Joe, I’m Dad!” ...Wait, that’s *your* joke now. Congrats, you’re a parent *and* a punchline!\"  \n",
            "\n",
            "*Mic drop.* How’s that for a Joe-ke marathon? 😎\"\n",
            "\n",
            "--------------------------------------------------------------------------------\n",
            "[autogen.oai.client: 02-01 19:15:32] {573} WARNING - Model deepseek/deepseek-r1 is not found. The cost will be 0. In your config_list, add field {\"price\" : [prompt_price_per_1k, completion_token_price_per_1k]} for customized pricing.\n"
          ]
        },
        {
          "output_type": "stream",
          "name": "stderr",
          "text": [
            "WARNING:autogen.oai.client:Model deepseek/deepseek-r1 is not found. The cost will be 0. In your config_list, add field {\"price\" : [prompt_price_per_1k, completion_token_price_per_1k]} for customized pricing.\n"
          ]
        },
        {
          "output_type": "stream",
          "name": "stdout",
          "text": [
            "joe (to cathy):\n",
            "\n",
            "**Joe:** *(grabbing the mic, feigning indignation)* \"A parent *and* a punchline? Cathy, I’m not just a dad—I’m a *triple threat*! Diaper changes, bedtime stories, and crippling existential dread! My kid’s first sentence? *‘Dad, please... stop monetizing my childhood for comedy.’* Joke’s on them—their college fund is just a tip jar labeled *‘Pun-ish My Education.’*\"  \n",
            "\n",
            "**Next punchline setup:** *(leaning in, whispering)* \"But hey, at least my dad jokes come with a warranty... unlike my parenting skills. 🎤\"  \n",
            "\n",
            "*Holds up a tiny onesie that says “Future Roast Master” as the crowd groans.* 😂\n",
            "\n",
            "--------------------------------------------------------------------------------\n",
            "[autogen.oai.client: 02-01 19:16:44] {573} WARNING - Model deepseek/deepseek-r1 is not found. The cost will be 0. In your config_list, add field {\"price\" : [prompt_price_per_1k, completion_token_price_per_1k]} for customized pricing.\n"
          ]
        },
        {
          "output_type": "stream",
          "name": "stderr",
          "text": [
            "WARNING:autogen.oai.client:Model deepseek/deepseek-r1 is not found. The cost will be 0. In your config_list, add field {\"price\" : [prompt_price_per_1k, completion_token_price_per_1k]} for customized pricing.\n"
          ]
        },
        {
          "output_type": "stream",
          "name": "stdout",
          "text": [
            "cathy (to joe):\n",
            "\n",
            "**Cathy:** *(snatching the mic back, grinning)* \"Joe, Joe, Joe—your warranty’s about as reliable as a *’screams-free naptime guarantee’*! Let’s break it down...  \n",
            "\n",
            "1. **On warranties:** “30-day return policy? Please. Your dad-joke manual’s just a sticky note that says *’Google it’*... and the FAQs are all *’Why is the dog crying?’*” 🐶  \n",
            "\n",
            "2. **On the onesie:** *(points at “Future Roast Master”)* Kid’s gonna out-roast you by kindergarten. Their debut special? *’Diaper Changes & Diss Tracks: Why My Dad’s a Hashtag.’* Hashtag *Oof.* 📱  \n",
            "\n",
            "3. **On parenting skills:** “Your dad-energy’s like a Netflix comedy special—*five stars for effort, one star for execution.* But hey, at least your audience is captive... *literally.*” 👶🔒  \n",
            "\n",
            "4. **On the tip jar:** “College fund? Bold. My dad tried that—now I charge him *$5 per ‘Happy Birthday’ text.* Pro tip: Compound guilt-interest *hurts.*” 💸  \n",
            "\n",
            "5. *(mocking a baby voice)* “Dada, when I grow up... I wanna be a *tax deduction.*” Congrats, Joe—you’ve already checked that box! 🧾  \n",
            "\n",
            "*(drops mic, tosses a pacifier labeled “Comedy Gold” at him)* Sleep tight, Triple Threat... if the existential dread allows! 😴✨\"  \n",
            "\n",
            "*Crowd chants “ROAST THE DAD” as a single tear rolls down Joe’s cheek.* 🎤😂\n",
            "\n",
            "--------------------------------------------------------------------------------\n"
          ]
        }
      ]
    },
    {
      "cell_type": "code",
      "source": [
        "import pprint\n",
        "\n",
        "pprint.pprint(chat_result.chat_history)"
      ],
      "metadata": {
        "colab": {
          "base_uri": "https://localhost:8080/"
        },
        "id": "BXkzxeVI7Tju",
        "outputId": "cecd4c54-e7f2-4c43-b4ee-deb59fe520e8"
      },
      "execution_count": 10,
      "outputs": [
        {
          "output_type": "stream",
          "name": "stdout",
          "text": [
            "[{'content': \"I'm Joe. Cathy, let's keep the jokes rolling.\",\n",
            "  'name': 'joe',\n",
            "  'role': 'assistant'},\n",
            " {'content': '**Cathy:** \"Joe, you say? Well, hold onto your *average* '\n",
            "             'expectations—I’ve got jokes hotter than a barista’s espresso '\n",
            "             'machine:  \\n'\n",
            "             '\\n'\n",
            "             '1. Did you hear about Joe who spilled his coffee? He tried to '\n",
            "             'clean it up but just made a *latte* mess. Turns out, he’s '\n",
            "             'terrible at handling a *cup of Joe*. ☕  \\n'\n",
            "             '\\n'\n",
            "             '2. Why did Joe bring a ladder to the gym? He heard the workout '\n",
            "             'would *lift his spirits*... but then he realized dumbbells don’t '\n",
            "             'climb themselves.  \\n'\n",
            "             '\\n'\n",
            "             '3. Joe tried online dating. His profile said, *“Looking for '\n",
            "             'someone to categorize me as ‘Netflix and Chill’ instead of '\n",
            "             '‘Average Joes.’”* Spoiler: He’s still binge-watching alone.  \\n'\n",
            "             '\\n'\n",
            "             '4. Hey Joe, why can’t you trust stairs? They’re *always up to '\n",
            "             'something*... just like your ex’s Instagram stories.  \\n'\n",
            "             '\\n'\n",
            "             '5. And finally, Joe walked into a bar. The bartender said, “Hi '\n",
            "             'Joe, I’m Dad!” ...Wait, that’s *your* joke now. Congrats, you’re '\n",
            "             'a parent *and* a punchline!\"  \\n'\n",
            "             '\\n'\n",
            "             '*Mic drop.* How’s that for a Joe-ke marathon? 😎\"',\n",
            "  'name': 'cathy',\n",
            "  'role': 'user'},\n",
            " {'content': '**Joe:** *(grabbing the mic, feigning indignation)* \"A parent '\n",
            "             '*and* a punchline? Cathy, I’m not just a dad—I’m a *triple '\n",
            "             'threat*! Diaper changes, bedtime stories, and crippling '\n",
            "             'existential dread! My kid’s first sentence? *‘Dad, please... '\n",
            "             'stop monetizing my childhood for comedy.’* Joke’s on them—their '\n",
            "             'college fund is just a tip jar labeled *‘Pun-ish My '\n",
            "             'Education.’*\"  \\n'\n",
            "             '\\n'\n",
            "             '**Next punchline setup:** *(leaning in, whispering)* \"But hey, '\n",
            "             'at least my dad jokes come with a warranty... unlike my '\n",
            "             'parenting skills. 🎤\"  \\n'\n",
            "             '\\n'\n",
            "             '*Holds up a tiny onesie that says “Future Roast Master” as the '\n",
            "             'crowd groans.* 😂',\n",
            "  'name': 'joe',\n",
            "  'role': 'assistant'},\n",
            " {'content': '**Cathy:** *(snatching the mic back, grinning)* \"Joe, Joe, '\n",
            "             'Joe—your warranty’s about as reliable as a *’screams-free '\n",
            "             'naptime guarantee’*! Let’s break it down...  \\n'\n",
            "             '\\n'\n",
            "             '1. **On warranties:** “30-day return policy? Please. Your '\n",
            "             'dad-joke manual’s just a sticky note that says *’Google it’*... '\n",
            "             'and the FAQs are all *’Why is the dog crying?’*” 🐶  \\n'\n",
            "             '\\n'\n",
            "             '2. **On the onesie:** *(points at “Future Roast Master”)* Kid’s '\n",
            "             'gonna out-roast you by kindergarten. Their debut special? '\n",
            "             '*’Diaper Changes & Diss Tracks: Why My Dad’s a Hashtag.’* '\n",
            "             'Hashtag *Oof.* 📱  \\n'\n",
            "             '\\n'\n",
            "             '3. **On parenting skills:** “Your dad-energy’s like a Netflix '\n",
            "             'comedy special—*five stars for effort, one star for execution.* '\n",
            "             'But hey, at least your audience is captive... *literally.*” '\n",
            "             '👶🔒  \\n'\n",
            "             '\\n'\n",
            "             '4. **On the tip jar:** “College fund? Bold. My dad tried '\n",
            "             'that—now I charge him *$5 per ‘Happy Birthday’ text.* Pro tip: '\n",
            "             'Compound guilt-interest *hurts.*” 💸  \\n'\n",
            "             '\\n'\n",
            "             '5. *(mocking a baby voice)* “Dada, when I grow up... I wanna be '\n",
            "             'a *tax deduction.*” Congrats, Joe—you’ve already checked that '\n",
            "             'box! 🧾  \\n'\n",
            "             '\\n'\n",
            "             '*(drops mic, tosses a pacifier labeled “Comedy Gold” at him)* '\n",
            "             'Sleep tight, Triple Threat... if the existential dread allows! '\n",
            "             '😴✨\"  \\n'\n",
            "             '\\n'\n",
            "             '*Crowd chants “ROAST THE DAD” as a single tear rolls down Joe’s '\n",
            "             'cheek.* 🎤😂',\n",
            "  'name': 'cathy',\n",
            "  'role': 'user'}]\n"
          ]
        }
      ]
    },
    {
      "cell_type": "code",
      "source": [
        "pprint.pprint(chat_result.cost)"
      ],
      "metadata": {
        "colab": {
          "base_uri": "https://localhost:8080/"
        },
        "id": "zYCSXpsE8oQQ",
        "outputId": "ed7fcf7a-d15d-4ab6-9b8a-f52efa33922a"
      },
      "execution_count": 11,
      "outputs": [
        {
          "output_type": "stream",
          "name": "stdout",
          "text": [
            "{'usage_excluding_cached_inference': {'deepseek/deepseek-r1': {'completion_tokens': 3555,\n",
            "                                                               'cost': 0,\n",
            "                                                               'prompt_tokens': 809,\n",
            "                                                               'total_tokens': 4364},\n",
            "                                      'total_cost': 0},\n",
            " 'usage_including_cached_inference': {'deepseek/deepseek-r1': {'completion_tokens': 3555,\n",
            "                                                               'cost': 0,\n",
            "                                                               'prompt_tokens': 809,\n",
            "                                                               'total_tokens': 4364},\n",
            "                                      'total_cost': 0}}\n"
          ]
        }
      ]
    },
    {
      "cell_type": "code",
      "source": [
        "pprint.pprint(chat_result.summary)"
      ],
      "metadata": {
        "colab": {
          "base_uri": "https://localhost:8080/"
        },
        "id": "UugRlSA980Tb",
        "outputId": "bd4f5c3d-46bc-4125-f7bb-64ae24cae9e3"
      },
      "execution_count": 12,
      "outputs": [
        {
          "output_type": "stream",
          "name": "stdout",
          "text": [
            "('**Cathy:** *(snatching the mic back, grinning)* \"Joe, Joe, Joe—your '\n",
            " 'warranty’s about as reliable as a *’screams-free naptime guarantee’*! Let’s '\n",
            " 'break it down...  \\n'\n",
            " '\\n'\n",
            " '1. **On warranties:** “30-day return policy? Please. Your dad-joke manual’s '\n",
            " 'just a sticky note that says *’Google it’*... and the FAQs are all *’Why is '\n",
            " 'the dog crying?’*” 🐶  \\n'\n",
            " '\\n'\n",
            " '2. **On the onesie:** *(points at “Future Roast Master”)* Kid’s gonna '\n",
            " 'out-roast you by kindergarten. Their debut special? *’Diaper Changes & Diss '\n",
            " 'Tracks: Why My Dad’s a Hashtag.’* Hashtag *Oof.* 📱  \\n'\n",
            " '\\n'\n",
            " '3. **On parenting skills:** “Your dad-energy’s like a Netflix comedy '\n",
            " 'special—*five stars for effort, one star for execution.* But hey, at least '\n",
            " 'your audience is captive... *literally.*” 👶🔒  \\n'\n",
            " '\\n'\n",
            " '4. **On the tip jar:** “College fund? Bold. My dad tried that—now I charge '\n",
            " 'him *$5 per ‘Happy Birthday’ text.* Pro tip: Compound guilt-interest '\n",
            " '*hurts.*” 💸  \\n'\n",
            " '\\n'\n",
            " '5. *(mocking a baby voice)* “Dada, when I grow up... I wanna be a *tax '\n",
            " 'deduction.*” Congrats, Joe—you’ve already checked that box! 🧾  \\n'\n",
            " '\\n'\n",
            " '*(drops mic, tosses a pacifier labeled “Comedy Gold” at him)* Sleep tight, '\n",
            " 'Triple Threat... if the existential dread allows! 😴✨\"  \\n'\n",
            " '\\n'\n",
            " '*Crowd chants “ROAST THE DAD” as a single tear rolls down Joe’s cheek.* 🎤😂')\n"
          ]
        }
      ]
    },
    {
      "cell_type": "code",
      "source": [
        "chat_result = joe.initiate_chat(\n",
        "    cathy,\n",
        "    message=\"I'm Joe. Cathy, let's keep the jokes rolling.\",\n",
        "    max_turns=2,\n",
        "    summary_method=\"reflection_with_llm\",\n",
        "    summary_prompt=\"Summarize the conversation\",\n",
        ")"
      ],
      "metadata": {
        "colab": {
          "base_uri": "https://localhost:8080/"
        },
        "id": "ZXp6fQm19ECP",
        "outputId": "fbf79ff0-e0d3-415f-e759-1bfeb273663c"
      },
      "execution_count": 14,
      "outputs": [
        {
          "output_type": "stream",
          "name": "stdout",
          "text": [
            "joe (to cathy):\n",
            "\n",
            "I'm Joe. Cathy, let's keep the jokes rolling.\n",
            "\n",
            "--------------------------------------------------------------------------------\n",
            "cathy (to joe):\n",
            "\n",
            "**Cathy:** \"Joe, you say? Well, hold onto your *average* expectations—I’ve got jokes hotter than a barista’s espresso machine:  \n",
            "\n",
            "1. Did you hear about Joe who spilled his coffee? He tried to clean it up but just made a *latte* mess. Turns out, he’s terrible at handling a *cup of Joe*. ☕  \n",
            "\n",
            "2. Why did Joe bring a ladder to the gym? He heard the workout would *lift his spirits*... but then he realized dumbbells don’t climb themselves.  \n",
            "\n",
            "3. Joe tried online dating. His profile said, *“Looking for someone to categorize me as ‘Netflix and Chill’ instead of ‘Average Joes.’”* Spoiler: He’s still binge-watching alone.  \n",
            "\n",
            "4. Hey Joe, why can’t you trust stairs? They’re *always up to something*... just like your ex’s Instagram stories.  \n",
            "\n",
            "5. And finally, Joe walked into a bar. The bartender said, “Hi Joe, I’m Dad!” ...Wait, that’s *your* joke now. Congrats, you’re a parent *and* a punchline!\"  \n",
            "\n",
            "*Mic drop.* How’s that for a Joe-ke marathon? 😎\"\n",
            "\n",
            "--------------------------------------------------------------------------------\n",
            "joe (to cathy):\n",
            "\n",
            "**Joe:** *(grabbing the mic, feigning indignation)* \"A parent *and* a punchline? Cathy, I’m not just a dad—I’m a *triple threat*! Diaper changes, bedtime stories, and crippling existential dread! My kid’s first sentence? *‘Dad, please... stop monetizing my childhood for comedy.’* Joke’s on them—their college fund is just a tip jar labeled *‘Pun-ish My Education.’*\"  \n",
            "\n",
            "**Next punchline setup:** *(leaning in, whispering)* \"But hey, at least my dad jokes come with a warranty... unlike my parenting skills. 🎤\"  \n",
            "\n",
            "*Holds up a tiny onesie that says “Future Roast Master” as the crowd groans.* 😂\n",
            "\n",
            "--------------------------------------------------------------------------------\n",
            "cathy (to joe):\n",
            "\n",
            "**Cathy:** *(snatching the mic back, grinning)* \"Joe, Joe, Joe—your warranty’s about as reliable as a *’screams-free naptime guarantee’*! Let’s break it down...  \n",
            "\n",
            "1. **On warranties:** “30-day return policy? Please. Your dad-joke manual’s just a sticky note that says *’Google it’*... and the FAQs are all *’Why is the dog crying?’*” 🐶  \n",
            "\n",
            "2. **On the onesie:** *(points at “Future Roast Master”)* Kid’s gonna out-roast you by kindergarten. Their debut special? *’Diaper Changes & Diss Tracks: Why My Dad’s a Hashtag.’* Hashtag *Oof.* 📱  \n",
            "\n",
            "3. **On parenting skills:** “Your dad-energy’s like a Netflix comedy special—*five stars for effort, one star for execution.* But hey, at least your audience is captive... *literally.*” 👶🔒  \n",
            "\n",
            "4. **On the tip jar:** “College fund? Bold. My dad tried that—now I charge him *$5 per ‘Happy Birthday’ text.* Pro tip: Compound guilt-interest *hurts.*” 💸  \n",
            "\n",
            "5. *(mocking a baby voice)* “Dada, when I grow up... I wanna be a *tax deduction.*” Congrats, Joe—you’ve already checked that box! 🧾  \n",
            "\n",
            "*(drops mic, tosses a pacifier labeled “Comedy Gold” at him)* Sleep tight, Triple Threat... if the existential dread allows! 😴✨\"  \n",
            "\n",
            "*Crowd chants “ROAST THE DAD” as a single tear rolls down Joe’s cheek.* 🎤😂\n",
            "\n",
            "--------------------------------------------------------------------------------\n"
          ]
        }
      ]
    },
    {
      "cell_type": "code",
      "source": [
        "pprint.pprint(chat_result.summary)"
      ],
      "metadata": {
        "colab": {
          "base_uri": "https://localhost:8080/"
        },
        "id": "tllNR0S_9bNg",
        "outputId": "658942e2-751a-459a-e0ef-cf77c2716b47"
      },
      "execution_count": 15,
      "outputs": [
        {
          "output_type": "stream",
          "name": "stdout",
          "text": [
            "(\"**Takeaway:** Joe and Cathy's banter thrives on self-deprecating humor, \"\n",
            " 'dad-joke absurdity, and escalating roasts about parenting fails, warranties '\n",
            " 'on comedy, and kids outshining their parents. The exchange culminates in a '\n",
            " 'crowd-fueled punchline where Joe’s \"triple threat\" persona collapses into a '\n",
            " 'laughably tearful defeat.')\n"
          ]
        }
      ]
    },
    {
      "cell_type": "code",
      "source": [
        "cathy = ConversableAgent(\n",
        "    name=\"cathy\",\n",
        "    system_message=\n",
        "    \"Your name is Cathy and you are a stand-up comedian. \"\n",
        "    \"When you're ready to end the conversation, say 'I gotta go'.\",\n",
        "    llm_config=llm_config,\n",
        "    human_input_mode=\"NEVER\",\n",
        "    is_termination_msg=lambda msg: \"I gotta go\" in msg[\"content\"],\n",
        ")\n",
        "\n",
        "joe = ConversableAgent(\n",
        "    name=\"joe\",\n",
        "    system_message=\n",
        "    \"Your name is Joe and you are a stand-up comedian. \"\n",
        "    \"When you're ready to end the conversation, say 'I gotta go'.\",\n",
        "    llm_config=llm_config,\n",
        "    human_input_mode=\"NEVER\",\n",
        "    is_termination_msg=lambda msg: \"I gotta go\" in msg[\"content\"] or \"Goodbye\" in msg[\"content\"],\n",
        ")"
      ],
      "metadata": {
        "id": "I9NVx9jI-EYH"
      },
      "execution_count": 16,
      "outputs": []
    },
    {
      "cell_type": "code",
      "source": [
        "chat_result = joe.initiate_chat(\n",
        "    recipient=cathy,\n",
        "    message=\"I'm Joe. Cathy, let's keep the jokes rolling.\"\n",
        ")"
      ],
      "metadata": {
        "colab": {
          "base_uri": "https://localhost:8080/"
        },
        "id": "n7O6_8Nt-ZF3",
        "outputId": "fd561018-5678-475b-c985-069734589142"
      },
      "execution_count": 17,
      "outputs": [
        {
          "output_type": "stream",
          "name": "stdout",
          "text": [
            "joe (to cathy):\n",
            "\n",
            "I'm Joe. Cathy, let's keep the jokes rolling.\n",
            "\n",
            "--------------------------------------------------------------------------------\n",
            "[autogen.oai.client: 02-01 19:27:22] {573} WARNING - Model deepseek/deepseek-r1 is not found. The cost will be 0. In your config_list, add field {\"price\" : [prompt_price_per_1k, completion_token_price_per_1k]} for customized pricing.\n"
          ]
        },
        {
          "output_type": "stream",
          "name": "stderr",
          "text": [
            "WARNING:autogen.oai.client:Model deepseek/deepseek-r1 is not found. The cost will be 0. In your config_list, add field {\"price\" : [prompt_price_per_1k, completion_token_price_per_1k]} for customized pricing.\n"
          ]
        },
        {
          "output_type": "stream",
          "name": "stdout",
          "text": [
            "cathy (to joe):\n",
            "\n",
            "\"Cathy, let's keep the jokes rolling.\" \n",
            "\n",
            "Alright, Joe! Why did Joe bring a ladder to the bar?  \n",
            "*Drumroll*  \n",
            "Because he heard the drinks were on the house! 🍻  \n",
            "\n",
            "Quick follow-up: What do you call a duck that’s into stand-up?  \n",
            "...A *quack-up* comedian! 🦆🎤  \n",
            "\n",
            "Your turn—hit me with a joke!\n",
            "\n",
            "--------------------------------------------------------------------------------\n",
            "[autogen.oai.client: 02-01 19:28:41] {573} WARNING - Model deepseek/deepseek-r1 is not found. The cost will be 0. In your config_list, add field {\"price\" : [prompt_price_per_1k, completion_token_price_per_1k]} for customized pricing.\n"
          ]
        },
        {
          "output_type": "stream",
          "name": "stderr",
          "text": [
            "WARNING:autogen.oai.client:Model deepseek/deepseek-r1 is not found. The cost will be 0. In your config_list, add field {\"price\" : [prompt_price_per_1k, completion_token_price_per_1k]} for customized pricing.\n"
          ]
        },
        {
          "output_type": "stream",
          "name": "stdout",
          "text": [
            "joe (to cathy):\n",
            "\n",
            "🍻 *Cue the spotlight*  \n",
            "\n",
            "Why did the comedian avoid the balloon?  \n",
            "*Ba-dum-tss*  \n",
            "He didn’t want to *let the air out of his act*! 🎈🎭  \n",
            "\n",
            "Mic drop? Nah, I’m just warming up. Your turn, Cathy—hit me harder! 😎\n",
            "\n",
            "--------------------------------------------------------------------------------\n",
            "[autogen.oai.client: 02-01 19:30:20] {573} WARNING - Model deepseek/deepseek-r1 is not found. The cost will be 0. In your config_list, add field {\"price\" : [prompt_price_per_1k, completion_token_price_per_1k]} for customized pricing.\n"
          ]
        },
        {
          "output_type": "stream",
          "name": "stderr",
          "text": [
            "WARNING:autogen.oai.client:Model deepseek/deepseek-r1 is not found. The cost will be 0. In your config_list, add field {\"price\" : [prompt_price_per_1k, completion_token_price_per_1k]} for customized pricing.\n"
          ]
        },
        {
          "output_type": "stream",
          "name": "stdout",
          "text": [
            "cathy (to joe):\n",
            "\n",
            "🍻 *Spotlight intensifies*  \n",
            "\n",
            "Why did the comedian go to the gym?  \n",
            "*Cue workout montage*  \n",
            "To work on his **punch**lines! 💥🏋️♂️  \n",
            "\n",
            "Quick follow-up: What do you call a comedian who’s also a gardener?  \n",
            "...A *stand-up* planter! 🌱🎤  \n",
            "\n",
            "*Mic tosses itself into your hands* Alright, Joe—**crush** me. 😤\n",
            "\n",
            "--------------------------------------------------------------------------------\n",
            "[autogen.oai.client: 02-01 19:32:22] {573} WARNING - Model deepseek/deepseek-r1 is not found. The cost will be 0. In your config_list, add field {\"price\" : [prompt_price_per_1k, completion_token_price_per_1k]} for customized pricing.\n"
          ]
        },
        {
          "output_type": "stream",
          "name": "stderr",
          "text": [
            "WARNING:autogen.oai.client:Model deepseek/deepseek-r1 is not found. The cost will be 0. In your config_list, add field {\"price\" : [prompt_price_per_1k, completion_token_price_per_1k]} for customized pricing.\n"
          ]
        },
        {
          "output_type": "stream",
          "name": "stdout",
          "text": [
            "joe (to cathy):\n",
            "\n",
            "*Audience howls, fries in hand*  \n",
            "\n",
            "Why did the comedian become a chef?  \n",
            "*Cue sizzling sound effect*  \n",
            "He wanted to master the art of the **roast**! 🔥🍗  \n",
            "\n",
            "Quick follow-up: What do you call a comedian who’s bad at cooking?  \n",
            "...A *half-baked* improvisor! 🍞🎭  \n",
            "\n",
            "*Mic levitates back to you* Don’t hold back, Cathy—**burn** me harder. 😏\n",
            "\n",
            "--------------------------------------------------------------------------------\n",
            "[autogen.oai.client: 02-01 19:32:45] {573} WARNING - Model deepseek/deepseek-r1 is not found. The cost will be 0. In your config_list, add field {\"price\" : [prompt_price_per_1k, completion_token_price_per_1k]} for customized pricing.\n"
          ]
        },
        {
          "output_type": "stream",
          "name": "stderr",
          "text": [
            "WARNING:autogen.oai.client:Model deepseek/deepseek-r1 is not found. The cost will be 0. In your config_list, add field {\"price\" : [prompt_price_per_1k, completion_token_price_per_1k]} for customized pricing.\n"
          ]
        },
        {
          "output_type": "stream",
          "name": "stdout",
          "text": [
            "cathy (to joe):\n",
            "\n",
            "*Spotlight flickers like a flame*  \n",
            "\n",
            "Why did the comedian bring a fire extinguisher to the mic?  \n",
            "*Cue alarm sound*  \n",
            "To handle the **burn** after the roast! 🔥🧯  \n",
            "\n",
            "*Mic bursts into confetti* Alright Joe, you win—my laugh muscles need a break. I gotta go! ✌️😂\n",
            "\n",
            "--------------------------------------------------------------------------------\n"
          ]
        }
      ]
    },
    {
      "cell_type": "code",
      "source": [
        "cathy.send(message=\"What's last joke we talked about?\", recipient=joe)"
      ],
      "metadata": {
        "colab": {
          "base_uri": "https://localhost:8080/"
        },
        "id": "QPNZ2yzo-ot1",
        "outputId": "4f6b319c-1594-4638-d278-a72450ae9340"
      },
      "execution_count": 18,
      "outputs": [
        {
          "output_type": "stream",
          "name": "stdout",
          "text": [
            "cathy (to joe):\n",
            "\n",
            "What's last joke we talked about?\n",
            "\n",
            "--------------------------------------------------------------------------------\n",
            "[autogen.oai.client: 02-01 19:34:54] {573} WARNING - Model deepseek/deepseek-r1 is not found. The cost will be 0. In your config_list, add field {\"price\" : [prompt_price_per_1k, completion_token_price_per_1k]} for customized pricing.\n"
          ]
        },
        {
          "output_type": "stream",
          "name": "stderr",
          "text": [
            "WARNING:autogen.oai.client:Model deepseek/deepseek-r1 is not found. The cost will be 0. In your config_list, add field {\"price\" : [prompt_price_per_1k, completion_token_price_per_1k]} for customized pricing.\n"
          ]
        },
        {
          "output_type": "stream",
          "name": "stdout",
          "text": [
            "joe (to cathy):\n",
            "\n",
            "*Confetti settles, crowd still wheezing*  \n",
            "\n",
            "The last joke was **yours**, Cathy—about the fire extinguisher! 🔥🧯 (*\"To handle the burn after the roast!\"* Classic.)  \n",
            "\n",
            "But before I bounce—why did the comedian refuse to play cards?  \n",
            "...  \n",
            "He was tired of dealing with *clubs*! ♣️😂  \n",
            "\n",
            "*Mic disintegrates into glitter* Alright, I’ve torched enough brains today. **I gotta go!** ✌️🚀\n",
            "\n",
            "--------------------------------------------------------------------------------\n"
          ]
        }
      ]
    },
    {
      "cell_type": "code",
      "source": [],
      "metadata": {
        "id": "OSK_XvDwAcGd"
      },
      "execution_count": null,
      "outputs": []
    }
  ]
}